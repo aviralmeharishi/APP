{
 "cells": [
  {
   "cell_type": "code",
   "execution_count": 3,
   "id": "60d3e686-2d67-4f49-9902-1bd047e15968",
   "metadata": {},
   "outputs": [
    {
     "name": "stdout",
     "output_type": "stream",
     "text": [
      "Overwriting app.py\n"
     ]
    }
   ],
   "source": [
    "%%writefile app.py\n",
    "\n",
    "import streamlit as st\n",
    "import numpy as np\n",
    "import pandas as pd\n",
    "import pickle\n",
    "\n",
    "\n",
    "with open('final_model_xgb.pkl', 'rb') as file:\n",
    "    model = pickle.load(file)\n",
    "\n",
    "\n",
    "with open('transformer.pkl', 'rb') as file:\n",
    "    pt = pickle.load(file)\n",
    "\n",
    "\n",
    "def prediction(input_list):\n",
    "\n",
    "    input_list = np.array(input_list, dtype = object)\n",
    "    pred = model.predict_proba([input_list])[:,1][0]\n",
    "    \n",
    "    if pred > 0.5:\n",
    "        return f'This Booking is more likely to get canceled : Chances are {round(pred,4)}'\n",
    "    else:\n",
    "        return f'This Booking is less likely to grt canceled : Chances are {round(pred,4)}'\n",
    "\n",
    "def main():\n",
    "    st.title('''INN HOTEL GROUP\n",
    "    POWERED BY AVIRAL MEHARISHI CREATIONS ''')\n",
    "    \n",
    "    lt = st.text_input('PLEASE ENTER THE LEAD TIME')\n",
    "    mst = (lambda x:1 if x == 'Online' else 0)(st.selectbox('ENTER THE TYPEOF BOOOKING', ['ONLINE', 'OFFLINE']))\n",
    "    spcl = st.selectbox('KINDLY ENTER THE NO. OF SPECIAL REQUESTS MADE ',[0,1,2,3,4,5])\n",
    "    price = st.text_input('KINDLY ENTER THE PRICE OFFERED FOR THE ROOM')\n",
    "    adult = st.selectbox('SELECT THE NUMBER OF ADULTS IN THE BOOKING', [0,1,2,3,4])\n",
    "    wkd = st.text_input('PLEASE ENTER THE WEEKEND NIGHTS IN THE BOOKING')\n",
    "    wk = st.text_input('PLEASE ENTER THE WEEK NIGHTS IN THE BOOKING')\n",
    "    park = (lambda x:1 if x == 'Yes' else 0)(st.selectbox('IS PARKING INCLUDED IN THE BOOKING', ['Yes', 'No']))\n",
    "    month = st.slider('WHAT WILL BE THE MONTH OF ARRIVAL ?', min_value = 1, max_value = 12, step = 1)\n",
    "    day = st.slider('WHAT WILL BE THE DAY OF ARRIVAL ?', min_value = 1, max_value = 31, step = 1)\n",
    "    wkday_lambda = (lambda x:0 if x== 'MON' else 1 if x== 'TUE' else 2 if x== 'WED' else 3 if x== 'THU' \n",
    "                    else 4 if x== 'FRI' else 5 if x== 'SAT' else 6  )\n",
    "    wkday = wkday_lambda(st.selectbox('WHAT IS THE WEEKDAY OF ARRIVAL ? ',['MON', 'TUE', 'WED', 'THU', 'FRI', 'SAT', 'SUN']))\n",
    "\n",
    "\n",
    "\n",
    "    tran_data = pt.transform([[lt, price]])\n",
    "    lt_t = tran_data[0][0]\n",
    "    price_t = tran_data[0][1]\n",
    "    \n",
    "    imp_list = [lt_t, mst, spcl, price_t, adult, wkd, wk, park, month, day, wkday]\n",
    "\n",
    "\n",
    "    if st.button('PREDICT'):\n",
    "        response = prediction(inp_list)\n",
    "        st.success(response)\n",
    "\n",
    "if __name__ == '__main__':\n",
    "    main()"
   ]
  }
 ],
 "metadata": {
  "kernelspec": {
   "display_name": "Python 3 (ipykernel)",
   "language": "python",
   "name": "python3"
  },
  "language_info": {
   "codemirror_mode": {
    "name": "ipython",
    "version": 3
   },
   "file_extension": ".py",
   "mimetype": "text/x-python",
   "name": "python",
   "nbconvert_exporter": "python",
   "pygments_lexer": "ipython3",
   "version": "3.12.7"
  }
 },
 "nbformat": 4,
 "nbformat_minor": 5
}
